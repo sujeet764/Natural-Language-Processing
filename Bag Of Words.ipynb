{
 "cells": [
  {
   "cell_type": "code",
   "execution_count": 1,
   "metadata": {},
   "outputs": [],
   "source": [
    "import nltk"
   ]
  },
  {
   "cell_type": "code",
   "execution_count": 2,
   "metadata": {},
   "outputs": [],
   "source": [
    "paragraph = \"\"\"I have three visions for India. In 3000 years of our history, people from all over \n",
    "               the world have come and invaded us, captured our lands, conquered our minds. \n",
    "               From Alexander onwards, the Greeks, the Turks, the Moguls, the Portuguese, the British,\n",
    "               the French, the Dutch, all of them came and looted us, took over what was ours. \n",
    "               Yet we have not done this to any other nation. We have not conquered anyone. \n",
    "               We have not grabbed their land, their culture, \n",
    "               their history and tried to enforce our way of life on them. \n",
    "               Why? Because we respect the freedom of others.That is why my \n",
    "               first vision is that of freedom. I believe that India got its first vision of \n",
    "               this in 1857, when we started the War of Independence. It is this freedom that\n",
    "               we must protect and nurture and build on. If we are not free, no one will respect us.\n",
    "               My second vision for India’s development. For fifty years we have been a developing nation.\n",
    "               It is time we see ourselves as a developed nation. We are among the top 5 nations of the world\n",
    "               in terms of GDP. We have a 10 percent growth rate in most areas. Our poverty levels are falling.\n",
    "               Our achievements are being globally recognised today. Yet we lack the self-confidence to\n",
    "               see ourselves as a developed nation, self-reliant and self-assured. Isn’t this incorrect?\n",
    "               I have a third vision. India must stand up to the world. Because I believe that unless India \n",
    "               stands up to the world, no one will respect us. Only strength respects strength. We must be \n",
    "               strong not only as a military power but also as an economic power. Both must go hand-in-hand. \n",
    "               My good fortune was to have worked with three great minds. Dr. Vikram Sarabhai of the Dept. of \n",
    "               space, Professor Satish Dhawan, who succeeded him and Dr. Brahm Prakash, father of nuclear material.\n",
    "               I was lucky to have worked with all three of them closely and consider this the great opportunity of my life. \n",
    "               I see four milestones in my career\"\"\""
   ]
  },
  {
   "cell_type": "markdown",
   "metadata": {},
   "source": [
    "### Bag Of Words"
   ]
  },
  {
   "cell_type": "code",
   "execution_count": 3,
   "metadata": {},
   "outputs": [],
   "source": [
    "# Cleaning the texts\n",
    "import re\n",
    "from nltk.corpus import stopwords\n",
    "from nltk.stem.porter import PorterStemmer\n",
    "from nltk.stem import WordNetLemmatizer"
   ]
  },
  {
   "cell_type": "code",
   "execution_count": 4,
   "metadata": {},
   "outputs": [],
   "source": [
    "lemmatizer=WordNetLemmatizer()\n",
    "sentences = nltk.sent_tokenize(paragraph)\n",
    "corpus = []"
   ]
  },
  {
   "cell_type": "code",
   "execution_count": 9,
   "metadata": {
    "scrolled": true
   },
   "outputs": [],
   "source": [
    "for i in range(len(sentences)):\n",
    "    values = re.sub('[^a-zA-Z]', ' ', sentences[i]) #removing punctuation like:- . , [] etc\n",
    "    values = values.lower().split()\n",
    "    values = [lemmatizer.lemmatize(word) for word in values if not word in set(stopwords.words('english'))]\n",
    "    values = ' '.join(values)\n",
    "    corpus.append(values)"
   ]
  },
  {
   "cell_type": "code",
   "execution_count": 20,
   "metadata": {},
   "outputs": [],
   "source": [
    "# Creating the Bag of Words model\n",
    "from sklearn.feature_extraction.text import CountVectorizer\n",
    "cv = CountVectorizer(max_features = 1500)\n",
    "X = cv.fit(corpus)\n"
   ]
  },
  {
   "cell_type": "code",
   "execution_count": 21,
   "metadata": {
    "scrolled": true
   },
   "outputs": [
    {
     "data": {
      "text/plain": [
       "{'three': 98,\n",
       " 'vision': 107,\n",
       " 'india': 52,\n",
       " 'year': 112,\n",
       " 'history': 49,\n",
       " 'people': 73,\n",
       " 'world': 111,\n",
       " 'come': 15,\n",
       " 'invaded': 53,\n",
       " 'captured': 12,\n",
       " 'land': 55,\n",
       " 'conquered': 17,\n",
       " 'mind': 63,\n",
       " 'alexander': 1,\n",
       " 'onwards': 70,\n",
       " 'greek': 46,\n",
       " 'turk': 104,\n",
       " 'mogul': 64,\n",
       " 'portuguese': 75,\n",
       " 'british': 9,\n",
       " 'french': 38,\n",
       " 'dutch': 27,\n",
       " 'came': 11,\n",
       " 'looted': 58,\n",
       " 'took': 101,\n",
       " 'yet': 113,\n",
       " 'done': 25,\n",
       " 'nation': 66,\n",
       " 'anyone': 4,\n",
       " 'grabbed': 44,\n",
       " 'culture': 19,\n",
       " 'tried': 103,\n",
       " 'enforce': 29,\n",
       " 'way': 109,\n",
       " 'life': 57,\n",
       " 'respect': 84,\n",
       " 'freedom': 37,\n",
       " 'others': 72,\n",
       " 'first': 33,\n",
       " 'believe': 7,\n",
       " 'got': 43,\n",
       " 'started': 92,\n",
       " 'war': 108,\n",
       " 'independence': 51,\n",
       " 'must': 65,\n",
       " 'protect': 80,\n",
       " 'nurture': 68,\n",
       " 'build': 10,\n",
       " 'free': 36,\n",
       " 'one': 69,\n",
       " 'second': 87,\n",
       " 'development': 23,\n",
       " 'fifty': 32,\n",
       " 'developing': 22,\n",
       " 'time': 99,\n",
       " 'see': 88,\n",
       " 'developed': 21,\n",
       " 'among': 3,\n",
       " 'top': 102,\n",
       " 'term': 96,\n",
       " 'gdp': 39,\n",
       " 'percent': 74,\n",
       " 'growth': 47,\n",
       " 'rate': 81,\n",
       " 'area': 5,\n",
       " 'poverty': 76,\n",
       " 'level': 56,\n",
       " 'falling': 30,\n",
       " 'achievement': 0,\n",
       " 'globally': 40,\n",
       " 'recognised': 82,\n",
       " 'today': 100,\n",
       " 'lack': 54,\n",
       " 'self': 89,\n",
       " 'confidence': 16,\n",
       " 'reliant': 83,\n",
       " 'assured': 6,\n",
       " 'incorrect': 50,\n",
       " 'third': 97,\n",
       " 'stand': 91,\n",
       " 'unless': 105,\n",
       " 'strength': 93,\n",
       " 'strong': 94,\n",
       " 'military': 62,\n",
       " 'power': 77,\n",
       " 'also': 2,\n",
       " 'economic': 28,\n",
       " 'go': 41,\n",
       " 'hand': 48,\n",
       " 'good': 42,\n",
       " 'fortune': 34,\n",
       " 'worked': 110,\n",
       " 'great': 45,\n",
       " 'dr': 26,\n",
       " 'vikram': 106,\n",
       " 'sarabhai': 85,\n",
       " 'dept': 20,\n",
       " 'space': 90,\n",
       " 'professor': 79,\n",
       " 'satish': 86,\n",
       " 'dhawan': 24,\n",
       " 'succeeded': 95,\n",
       " 'brahm': 8,\n",
       " 'prakash': 78,\n",
       " 'father': 31,\n",
       " 'nuclear': 67,\n",
       " 'material': 60,\n",
       " 'lucky': 59,\n",
       " 'closely': 14,\n",
       " 'consider': 18,\n",
       " 'opportunity': 71,\n",
       " 'four': 35,\n",
       " 'milestone': 61,\n",
       " 'career': 13}"
      ]
     },
     "execution_count": 21,
     "metadata": {},
     "output_type": "execute_result"
    }
   ],
   "source": [
    "X.vocabulary_"
   ]
  },
  {
   "cell_type": "code",
   "execution_count": 26,
   "metadata": {},
   "outputs": [],
   "source": [
    "X = cv.transform(corpus).toarray()"
   ]
  },
  {
   "cell_type": "code",
   "execution_count": 27,
   "metadata": {},
   "outputs": [
    {
     "data": {
      "text/plain": [
       "array([[0, 0, 0, ..., 0, 0, 0],\n",
       "       [0, 0, 0, ..., 1, 1, 0],\n",
       "       [0, 1, 0, ..., 0, 0, 0],\n",
       "       ...,\n",
       "       [0, 0, 0, ..., 0, 0, 0],\n",
       "       [0, 0, 0, ..., 0, 0, 0],\n",
       "       [0, 0, 0, ..., 0, 0, 0]], dtype=int64)"
      ]
     },
     "execution_count": 27,
     "metadata": {},
     "output_type": "execute_result"
    }
   ],
   "source": [
    "X"
   ]
  },
  {
   "cell_type": "code",
   "execution_count": null,
   "metadata": {},
   "outputs": [],
   "source": []
  }
 ],
 "metadata": {
  "kernelspec": {
   "display_name": "Python 3",
   "language": "python",
   "name": "python3"
  },
  "language_info": {
   "codemirror_mode": {
    "name": "ipython",
    "version": 3
   },
   "file_extension": ".py",
   "mimetype": "text/x-python",
   "name": "python",
   "nbconvert_exporter": "python",
   "pygments_lexer": "ipython3",
   "version": "3.7.4"
  }
 },
 "nbformat": 4,
 "nbformat_minor": 2
}
